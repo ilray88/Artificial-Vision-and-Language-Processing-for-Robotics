{
 "nbformat": 4,
 "nbformat_minor": 0,
 "metadata": {
  "colab": {
   "name": "Exercise03.ipynb",
   "version": "0.3.2",
   "provenance": []
  },
  "kernelspec": {
   "name": "python3",
   "language": "python",
   "display_name": "Python 3 (ipykernel)"
  }
 },
 "cells": [
  {
   "metadata": {
    "id": "NDZyBLg9upue",
    "colab_type": "code",
    "colab": {}
   },
   "cell_type": "code",
   "source": [
    "from sklearn.feature_extraction.text import TfidfVectorizer\n",
    "from sklearn.decomposition import TruncatedSVD\n"
   ],
   "execution_count": 1,
   "outputs": []
  },
  {
   "metadata": {
    "id": "rR-f5iuRutAL",
    "colab_type": "code",
    "colab": {}
   },
   "cell_type": "code",
   "source": [
    "corpus = [\n",
    "     'My cat is white',\n",
    "     'I am the major of this city',\n",
    "     'I love eating toasted cheese',\n",
    "     'The lazy cat is sleeping',\n",
    "]\n"
   ],
   "execution_count": 2,
   "outputs": []
  },
  {
   "metadata": {
    "id": "y56M95qnuvEQ",
    "colab_type": "code",
    "colab": {}
   },
   "cell_type": "code",
   "source": [
    "vectorizer = TfidfVectorizer()\n",
    "X = vectorizer.fit_transform(corpus)\n"
   ],
   "execution_count": 3,
   "outputs": []
  },
  {
   "metadata": {
    "id": "DveJ1bcJuwr3",
    "colab_type": "code",
    "colab": {
     "base_uri": "https://localhost:8080/",
     "height": 308
    },
    "outputId": "898dc482-9249-4f28-fc28-b3006b0af48a"
   },
   "cell_type": "code",
   "source": [
    "vectorizer.get_feature_names()"
   ],
   "execution_count": 4,
   "outputs": [
    {
     "name": "stderr",
     "output_type": "stream",
     "text": [
      "D:\\0ilraypan\\python_work\\env\\tensorflow2\\lib\\site-packages\\sklearn\\utils\\deprecation.py:87: FutureWarning: Function get_feature_names is deprecated; get_feature_names is deprecated in 1.0 and will be removed in 1.2. Please use get_feature_names_out instead.\n",
      "  warnings.warn(msg, category=FutureWarning)\n"
     ]
    },
    {
     "data": {
      "text/plain": "['am',\n 'cat',\n 'cheese',\n 'city',\n 'eating',\n 'is',\n 'lazy',\n 'love',\n 'major',\n 'my',\n 'of',\n 'sleeping',\n 'the',\n 'this',\n 'toasted',\n 'white']"
     },
     "execution_count": 4,
     "metadata": {},
     "output_type": "execute_result"
    }
   ]
  },
  {
   "metadata": {
    "id": "msSZ39rQuywR",
    "colab_type": "text"
   },
   "cell_type": "markdown",
   "source": [
    ""
   ]
  },
  {
   "metadata": {
    "id": "WxRCLkftuzRQ",
    "colab_type": "code",
    "colab": {
     "base_uri": "https://localhost:8080/",
     "height": 308
    },
    "outputId": "4e1aac57-4715-4ec0-c4d6-6455ef463af7"
   },
   "cell_type": "code",
   "source": [
    "X.todense()"
   ],
   "execution_count": 5,
   "outputs": [
    {
     "data": {
      "text/plain": "matrix([[0.        , 0.43779123, 0.        , 0.        , 0.        ,\n         0.43779123, 0.        , 0.        , 0.        , 0.55528266,\n         0.        , 0.        , 0.        , 0.        , 0.        ,\n         0.55528266],\n        [0.42176478, 0.        , 0.        , 0.42176478, 0.        ,\n         0.        , 0.        , 0.        , 0.42176478, 0.        ,\n         0.42176478, 0.        , 0.3325242 , 0.42176478, 0.        ,\n         0.        ],\n        [0.        , 0.        , 0.5       , 0.        , 0.5       ,\n         0.        , 0.        , 0.5       , 0.        , 0.        ,\n         0.        , 0.        , 0.        , 0.        , 0.5       ,\n         0.        ],\n        [0.        , 0.40104275, 0.        , 0.        , 0.        ,\n         0.40104275, 0.50867187, 0.        , 0.        , 0.        ,\n         0.        , 0.50867187, 0.40104275, 0.        , 0.        ,\n         0.        ]])"
     },
     "execution_count": 5,
     "metadata": {},
     "output_type": "execute_result"
    }
   ]
  },
  {
   "metadata": {
    "id": "FsOS8euqu3FQ",
    "colab_type": "code",
    "colab": {
     "base_uri": "https://localhost:8080/",
     "height": 163
    },
    "outputId": "52718fff-8a17-45e0-c61c-74962a8514fa"
   },
   "cell_type": "code",
   "source": [
    "lsa = TruncatedSVD(n_components=10,algorithm='randomized',n_iter=10,random_state=0)\n",
    "lsa.fit_transform(X)\n"
   ],
   "execution_count": 6,
   "outputs": [
    {
     "data": {
      "text/plain": "array([[ 7.75313171e-01, -1.45436759e-18, -3.55033830e-01,\n        -5.22341331e-01],\n       [ 2.94444444e-01,  9.02005723e-17,  9.34853453e-01,\n        -1.98372101e-01],\n       [ 5.23445028e-18,  1.00000000e+00,  7.57911779e-17,\n        -8.97838342e-17],\n       [ 8.29341934e-01,  6.12997188e-17,  6.52256027e-16,\n         5.58741404e-01]])"
     },
     "execution_count": 6,
     "metadata": {},
     "output_type": "execute_result"
    }
   ]
  },
  {
   "metadata": {
    "id": "XKU2UTJAvAH4",
    "colab_type": "code",
    "colab": {
     "base_uri": "https://localhost:8080/",
     "height": 454
    },
    "outputId": "c8f19b01-bc48-4007-fcc4-9f6701b4a4e2"
   },
   "cell_type": "code",
   "source": [
    "lsa.components_"
   ],
   "execution_count": 7,
   "outputs": [
    {
     "data": {
      "text/plain": "array([[ 9.02768569e-02,  4.88527927e-01,  2.64151422e-17,\n         9.02768569e-02, -5.31541387e-18,  4.88527927e-01,\n         3.06671984e-01, -5.31541387e-18,  9.02768569e-02,\n         3.12963746e-01,  9.02768569e-02,  3.06671984e-01,\n         3.12959025e-01,  9.02768569e-02, -5.31541387e-18,\n         3.12963746e-01],\n       [-2.05068457e-18,  2.95756241e-17,  5.00000000e-01,\n         4.49663996e-17,  5.00000000e-01,  2.96382942e-17,\n         1.90753588e-17,  5.00000000e-01,  4.50917398e-17,\n        -2.46520407e-17,  4.50917398e-17,  1.90753588e-17,\n         4.52475692e-17,  4.50917398e-17,  5.00000000e-01,\n        -2.46520407e-17],\n       [ 3.94288263e-01, -1.55430698e-01,  2.19992696e-17,\n         3.94288263e-01,  4.31943621e-17, -1.55430698e-01,\n         4.40020180e-16,  4.31943621e-17,  3.94288263e-01,\n        -1.97144132e-01,  3.94288263e-01,  4.40020180e-16,\n         3.10861395e-01,  3.94288263e-01,  4.31943621e-17,\n        -1.97144132e-01],\n       [-1.33998273e-01, -7.36288530e-03, -8.66876254e-17,\n        -1.33998273e-01, -3.09600143e-17, -7.36288530e-03,\n         4.55194360e-01, -3.09600143e-17, -1.33998273e-01,\n        -4.64533246e-01, -1.33998273e-01,  4.55194360e-01,\n         2.53234685e-01, -1.33998273e-01, -3.09600143e-17,\n        -4.64533246e-01]])"
     },
     "execution_count": 7,
     "metadata": {},
     "output_type": "execute_result"
    }
   ]
  }
 ]
}