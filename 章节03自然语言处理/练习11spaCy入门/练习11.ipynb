{
 "nbformat": 4,
 "nbformat_minor": 0,
 "metadata": {
  "colab": {
   "name": "Exercise02.ipynb",
   "version": "0.3.2",
   "provenance": []
  },
  "kernelspec": {
   "name": "python3",
   "language": "python",
   "display_name": "Python 3 (ipykernel)"
  }
 },
 "cells": [
  {
   "metadata": {
    "id": "jn4SNbFds_MW",
    "colab_type": "code",
    "colab": {}
   },
   "cell_type": "code",
   "source": [
    "import spacy"
   ],
   "execution_count": 20,
   "outputs": []
  },
  {
   "metadata": {
    "id": "PORoUAlItDwY",
    "colab_type": "code",
    "colab": {}
   },
   "cell_type": "code",
   "source": [
    "nlp = spacy.load('en')"
   ],
   "execution_count": 21,
   "outputs": [
    {
     "ename": "OSError",
     "evalue": "[E941] Can't find model 'en'. It looks like you're trying to load a model from a shortcut, which is obsolete as of spaCy v3.0. To load the model, use its full name instead:\n\nnlp = spacy.load(\"en_core_web_sm\")\n\nFor more details on the available models, see the models directory: https://spacy.io/models. If you want to create a blank model, use spacy.blank: nlp = spacy.blank(\"en\")",
     "output_type": "error",
     "traceback": [
      "\u001B[1;31m---------------------------------------------------------------------------\u001B[0m",
      "\u001B[1;31mOSError\u001B[0m                                   Traceback (most recent call last)",
      "\u001B[1;32m~\\AppData\\Local\\Temp/ipykernel_4988/3841977577.py\u001B[0m in \u001B[0;36m<module>\u001B[1;34m\u001B[0m\n\u001B[1;32m----> 1\u001B[1;33m \u001B[0mnlp\u001B[0m \u001B[1;33m=\u001B[0m \u001B[0mspacy\u001B[0m\u001B[1;33m.\u001B[0m\u001B[0mload\u001B[0m\u001B[1;33m(\u001B[0m\u001B[1;34m'en'\u001B[0m\u001B[1;33m)\u001B[0m\u001B[1;33m\u001B[0m\u001B[1;33m\u001B[0m\u001B[0m\n\u001B[0m\u001B[0;32m      2\u001B[0m \u001B[1;33m\u001B[0m\u001B[0m\n",
      "\u001B[1;32mD:\\0ilraypan\\python_work\\env\\tensorflow2\\lib\\site-packages\\spacy\\__init__.py\u001B[0m in \u001B[0;36mload\u001B[1;34m(name, vocab, disable, exclude, config)\u001B[0m\n\u001B[0;32m     50\u001B[0m     \"\"\"\n\u001B[0;32m     51\u001B[0m     return util.load_model(\n\u001B[1;32m---> 52\u001B[1;33m         \u001B[0mname\u001B[0m\u001B[1;33m,\u001B[0m \u001B[0mvocab\u001B[0m\u001B[1;33m=\u001B[0m\u001B[0mvocab\u001B[0m\u001B[1;33m,\u001B[0m \u001B[0mdisable\u001B[0m\u001B[1;33m=\u001B[0m\u001B[0mdisable\u001B[0m\u001B[1;33m,\u001B[0m \u001B[0mexclude\u001B[0m\u001B[1;33m=\u001B[0m\u001B[0mexclude\u001B[0m\u001B[1;33m,\u001B[0m \u001B[0mconfig\u001B[0m\u001B[1;33m=\u001B[0m\u001B[0mconfig\u001B[0m\u001B[1;33m\u001B[0m\u001B[1;33m\u001B[0m\u001B[0m\n\u001B[0m\u001B[0;32m     53\u001B[0m     )\n\u001B[0;32m     54\u001B[0m \u001B[1;33m\u001B[0m\u001B[0m\n",
      "\u001B[1;32mD:\\0ilraypan\\python_work\\env\\tensorflow2\\lib\\site-packages\\spacy\\util.py\u001B[0m in \u001B[0;36mload_model\u001B[1;34m(name, vocab, disable, exclude, config)\u001B[0m\n\u001B[0;32m    353\u001B[0m         \u001B[1;32mreturn\u001B[0m \u001B[0mload_model_from_path\u001B[0m\u001B[1;33m(\u001B[0m\u001B[0mname\u001B[0m\u001B[1;33m,\u001B[0m \u001B[1;33m**\u001B[0m\u001B[0mkwargs\u001B[0m\u001B[1;33m)\u001B[0m  \u001B[1;31m# type: ignore[arg-type]\u001B[0m\u001B[1;33m\u001B[0m\u001B[1;33m\u001B[0m\u001B[0m\n\u001B[0;32m    354\u001B[0m     \u001B[1;32mif\u001B[0m \u001B[0mname\u001B[0m \u001B[1;32min\u001B[0m \u001B[0mOLD_MODEL_SHORTCUTS\u001B[0m\u001B[1;33m:\u001B[0m\u001B[1;33m\u001B[0m\u001B[1;33m\u001B[0m\u001B[0m\n\u001B[1;32m--> 355\u001B[1;33m         \u001B[1;32mraise\u001B[0m \u001B[0mIOError\u001B[0m\u001B[1;33m(\u001B[0m\u001B[0mErrors\u001B[0m\u001B[1;33m.\u001B[0m\u001B[0mE941\u001B[0m\u001B[1;33m.\u001B[0m\u001B[0mformat\u001B[0m\u001B[1;33m(\u001B[0m\u001B[0mname\u001B[0m\u001B[1;33m=\u001B[0m\u001B[0mname\u001B[0m\u001B[1;33m,\u001B[0m \u001B[0mfull\u001B[0m\u001B[1;33m=\u001B[0m\u001B[0mOLD_MODEL_SHORTCUTS\u001B[0m\u001B[1;33m[\u001B[0m\u001B[0mname\u001B[0m\u001B[1;33m]\u001B[0m\u001B[1;33m)\u001B[0m\u001B[1;33m)\u001B[0m  \u001B[1;31m# type: ignore[index]\u001B[0m\u001B[1;33m\u001B[0m\u001B[1;33m\u001B[0m\u001B[0m\n\u001B[0m\u001B[0;32m    356\u001B[0m     \u001B[1;32mraise\u001B[0m \u001B[0mIOError\u001B[0m\u001B[1;33m(\u001B[0m\u001B[0mErrors\u001B[0m\u001B[1;33m.\u001B[0m\u001B[0mE050\u001B[0m\u001B[1;33m.\u001B[0m\u001B[0mformat\u001B[0m\u001B[1;33m(\u001B[0m\u001B[0mname\u001B[0m\u001B[1;33m=\u001B[0m\u001B[0mname\u001B[0m\u001B[1;33m)\u001B[0m\u001B[1;33m)\u001B[0m\u001B[1;33m\u001B[0m\u001B[1;33m\u001B[0m\u001B[0m\n\u001B[0;32m    357\u001B[0m \u001B[1;33m\u001B[0m\u001B[0m\n",
      "\u001B[1;31mOSError\u001B[0m: [E941] Can't find model 'en'. It looks like you're trying to load a model from a shortcut, which is obsolete as of spaCy v3.0. To load the model, use its full name instead:\n\nnlp = spacy.load(\"en_core_web_sm\")\n\nFor more details on the available models, see the models directory: https://spacy.io/models. If you want to create a blank model, use spacy.blank: nlp = spacy.blank(\"en\")"
     ]
    }
   ]
  },
  {
   "metadata": {
    "id": "2biaEfR9tS3w",
    "colab_type": "code",
    "colab": {}
   },
   "cell_type": "code",
   "source": [
    "example_sentence = \"This course is great. I'm going to learn deep learning; Artificial Intelligence is amazing and I love robotics...\"\n",
    "doc1 = nlp(example_sentence)\n"
   ],
   "execution_count": null,
   "outputs": []
  },
  {
   "metadata": {
    "id": "8XiYY8SNtWl4",
    "colab_type": "code",
    "colab": {
     "base_uri": "https://localhost:8080/",
     "height": 90
    },
    "outputId": "d2d1766f-a011-42be-fdd0-3f55b78c8ddc"
   },
   "cell_type": "code",
   "source": [
    "print(\"Doc structure: {}\".format(doc1))\n",
    "print(\"Type of doc1:{}\".format(type(doc1)))\n",
    "print(\"5th and 10th Token of the Doc: {}, {}\".format(doc1[5], doc1[11]))\n",
    "print(\"Span between the 5th token and the 10th: {}\".format(doc1[5:11]))\n"
   ],
   "execution_count": null,
   "outputs": []
  },
  {
   "metadata": {
    "id": "WKEl7WlUtXeo",
    "colab_type": "code",
    "colab": {
     "base_uri": "https://localhost:8080/",
     "height": 54
    },
    "outputId": "f5d6c020-3c10-49f7-a8f5-96c1d4e762aa"
   },
   "cell_type": "code",
   "source": [
    "for s in doc1.sents:\n",
    "    print(s)\n"
   ],
   "execution_count": null,
   "outputs": []
  },
  {
   "metadata": {
    "id": "54HNKp-HtfoP",
    "colab_type": "code",
    "colab": {
     "base_uri": "https://localhost:8080/",
     "height": 417
    },
    "outputId": "6f84a08d-502c-4b1f-fda7-4d2dd883586a"
   },
   "cell_type": "code",
   "source": [
    "for i in doc1:\n",
    "    print(i)\n"
   ],
   "execution_count": null,
   "outputs": []
  },
  {
   "metadata": {
    "id": "FpeDOhxVuH0V",
    "colab_type": "code",
    "colab": {}
   },
   "cell_type": "code",
   "source": [
    ""
   ],
   "execution_count": null,
   "outputs": []
  },
  {
   "metadata": {
    "id": "_4JEWaXqtuzw",
    "colab_type": "code",
    "colab": {
     "base_uri": "https://localhost:8080/",
     "height": 54
    },
    "outputId": "cc61a66b-f42a-4d08-fe8e-5b2bca14c35f"
   },
   "cell_type": "code",
   "source": [
    "from spacy.lang.en.stop_words import STOP_WORDS\n",
    "print(\"Some stopwords of spaCy: {}\".format(list(STOP_WORDS)[:10]))\n",
    "type(STOP_WORDS)\n"
   ],
   "execution_count": null,
   "outputs": []
  },
  {
   "metadata": {
    "id": "a45juDIKtvfg",
    "colab_type": "code",
    "colab": {
     "base_uri": "https://localhost:8080/",
     "height": 108
    },
    "outputId": "b6bca215-d60e-485e-e656-847fc7896a41"
   },
   "cell_type": "code",
   "source": [
    "for i in doc1[0:5]:\n",
    "    print(\"Token: {} | Stop word: {}\".format(i, i.is_stop))\n"
   ],
   "execution_count": null,
   "outputs": []
  },
  {
   "metadata": {
    "id": "2KB7JMKMt3tZ",
    "colab_type": "code",
    "colab": {
     "base_uri": "https://localhost:8080/",
     "height": 35
    },
    "outputId": "132a6155-bd18-40d8-d9c9-0ecaf9347111"
   },
   "cell_type": "code",
   "source": [
    "nlp.vocab[\"This\"].is_stop = True\n",
    "doc1[0].is_stop\n"
   ],
   "execution_count": null,
   "outputs": []
  },
  {
   "metadata": {
    "id": "p3w1S-gGuL7c",
    "colab_type": "code",
    "colab": {
     "base_uri": "https://localhost:8080/",
     "height": 108
    },
    "outputId": "6f48e304-832e-4e9d-c971-e72de1574800"
   },
   "cell_type": "code",
   "source": [
    "for i in doc1[0:5]:\n",
    "    print(\"Token: {} | Tag: {}\".format(i.text, i.pos_))\n"
   ],
   "execution_count": null,
   "outputs": []
  },
  {
   "metadata": {
    "id": "d6lHEhnEuOYu",
    "colab_type": "code",
    "colab": {
     "base_uri": "https://localhost:8080/",
     "height": 90
    },
    "outputId": "33d4a0f7-cbb9-43f0-a99d-3b97787856c4"
   },
   "cell_type": "code",
   "source": [
    "doc2 = nlp(\"I live in Madrid and I am working in Google from 10th of December.\")\n",
    "for i in doc2.ents:\n",
    "    print(\"Word: {} | Entity: {}\".format(i.text, i.label_))\n"
   ],
   "execution_count": null,
   "outputs": []
  }
 ]
}