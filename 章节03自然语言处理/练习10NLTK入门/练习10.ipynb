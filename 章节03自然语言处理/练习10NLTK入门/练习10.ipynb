{
 "nbformat": 4,
 "nbformat_minor": 0,
 "metadata": {
  "colab": {
   "name": "Copy of Exercise01.ipynb",
   "version": "0.3.2",
   "provenance": [],
   "collapsed_sections": []
  },
  "kernelspec": {
   "name": "python3",
   "language": "python",
   "display_name": "Python 3 (ipykernel)"
  }
 },
 "cells": [
  {
   "metadata": {
    "id": "mOUh5tTXroVe",
    "colab_type": "code",
    "outputId": "edf42813-c84c-4b40-da44-b77e5e0c26c8",
    "colab": {
     "base_uri": "https://localhost:8080/",
     "height": 72
    }
   },
   "cell_type": "code",
   "source": [
    "from nltk.corpus import stopwords\n",
    "from nltk.tokenize import word_tokenize\n",
    "from nltk.tokenize import sent_tokenize \n",
    "import nltk\n",
    "nltk.download('punkt')"
   ],
   "execution_count": 2,
   "outputs": [
    {
     "name": "stderr",
     "output_type": "stream",
     "text": [
      "[nltk_data] Downloading package punkt to\n",
      "[nltk_data]     C:\\Users\\BBBBin\\AppData\\Roaming\\nltk_data...\n",
      "[nltk_data]   Package punkt is already up-to-date!\n"
     ]
    },
    {
     "data": {
      "text/plain": "True"
     },
     "execution_count": 2,
     "metadata": {},
     "output_type": "execute_result"
    }
   ]
  },
  {
   "metadata": {
    "id": "wZJqiY1JsEzg",
    "colab_type": "code",
    "colab": {}
   },
   "cell_type": "code",
   "source": [
    ""
   ],
   "execution_count": 2,
   "outputs": []
  },
  {
   "metadata": {
    "id": "G3n51hLCrxeo",
    "colab_type": "code",
    "outputId": "a6dd521b-48a7-4b84-d358-f927873567fe",
    "colab": {
     "base_uri": "https://localhost:8080/",
     "height": 417
    }
   },
   "cell_type": "code",
   "source": [
    "example_sentence = \"This course is great. I'm going to learn deep learning; Artificial Intelligence is amazing and I love robotics...\"\n",
    "sent_tokenize(example_sentence) # Divide the text into sentences\n",
    "word_tokenize(example_sentence) # Divide the text into words"
   ],
   "execution_count": 3,
   "outputs": [
    {
     "data": {
      "text/plain": "['This',\n 'course',\n 'is',\n 'great',\n '.',\n 'I',\n \"'m\",\n 'going',\n 'to',\n 'learn',\n 'deep',\n 'learning',\n ';',\n 'Artificial',\n 'Intelligence',\n 'is',\n 'amazing',\n 'and',\n 'I',\n 'love',\n 'robotics',\n '...']"
     },
     "execution_count": 3,
     "metadata": {},
     "output_type": "execute_result"
    }
   ]
  },
  {
   "metadata": {
    "id": "KxrUjy3JsF-I",
    "colab_type": "code",
    "outputId": "5076769e-2eb9-4e7f-e209-2949dd6ca0b1",
    "colab": {
     "base_uri": "https://localhost:8080/",
     "height": 72
    }
   },
   "cell_type": "code",
   "source": [
    "nltk.download('stopwords')"
   ],
   "execution_count": 4,
   "outputs": [
    {
     "name": "stderr",
     "output_type": "stream",
     "text": [
      "[nltk_data] Downloading package stopwords to\n",
      "[nltk_data]     C:\\Users\\BBBBin\\AppData\\Roaming\\nltk_data...\n",
      "[nltk_data]   Unzipping corpora\\stopwords.zip.\n"
     ]
    },
    {
     "data": {
      "text/plain": "True"
     },
     "execution_count": 4,
     "metadata": {},
     "output_type": "execute_result"
    }
   ]
  },
  {
   "metadata": {
    "id": "SYif5GjjsJsg",
    "colab_type": "code",
    "outputId": "4904aa99-8f20-41b5-dc56-fa39dbf36889",
    "colab": {
     "base_uri": "https://localhost:8080/",
     "height": 55
    }
   },
   "cell_type": "code",
   "source": [
    "stop_words = set(stopwords.words(\"english\")) \n",
    "print(stop_words)\n"
   ],
   "execution_count": 5,
   "outputs": [
    {
     "name": "stdout",
     "output_type": "stream",
     "text": [
      "{'having', 'out', \"that'll\", 'wouldn', 'from', 've', 'again', 'haven', 'aren', 'into', 'before', 'why', 'to', 'whom', 'there', 'a', 'doing', 'have', 'any', 'him', 'and', 'how', 'who', 'own', 'weren', 'our', 'an', 'now', 'my', 'very', \"you're\", 'yourselves', 'can', 'where', 'did', 'll', 'myself', 'above', 'didn', 'under', \"don't\", 'with', 'i', 'their', 'more', 'only', \"doesn't\", 'its', 'that', 'his', 'this', 'ours', 'hers', 'was', 'but', 'such', \"couldn't\", 'other', 'you', 'they', 'herself', 'yourself', 'each', 'ourselves', 'what', 'below', 'it', 'nor', \"didn't\", \"she's\", 'y', 'couldn', 'be', 'o', 'if', 'these', 'so', 'those', 'them', 'at', \"wouldn't\", 'just', 'himself', 'is', 'which', 'between', 'too', 'd', 'ma', \"weren't\", \"aren't\", 'by', 'over', 'as', 're', 'most', 'me', 'on', 'further', 'same', 'mustn', \"shouldn't\", 'while', \"should've\", 'hasn', 'the', 'he', 'then', 'hadn', \"hadn't\", \"you'd\", 'her', 'no', \"wasn't\", 'all', 'during', 'in', 'for', 'won', \"mustn't\", 'not', 'we', 'up', \"hasn't\", 'do', 'being', 'am', 'm', 'were', 'of', 'doesn', 'off', \"mightn't\", 'shan', 'once', 'been', 'both', 'some', 'theirs', 'until', 'itself', 'should', \"you'll\", \"won't\", 'or', 'will', 'your', 'she', 'isn', \"you've\", \"needn't\", 'does', 's', 'ain', 'has', 'than', \"haven't\", 'about', 'are', 'through', 'yours', 'here', 'after', 'themselves', 'wasn', \"shan't\", 't', 'shouldn', 'had', 'mightn', 'needn', 'few', 'against', 'don', \"it's\", 'because', 'when', 'down', \"isn't\"}\n"
     ]
    }
   ]
  },
  {
   "metadata": {
    "id": "wBVMF_FvsMhx",
    "colab_type": "code",
    "outputId": "3ce9cf42-ec2c-48e8-cf74-91b0dd13f294",
    "colab": {
     "base_uri": "https://localhost:8080/",
     "height": 35
    }
   },
   "cell_type": "code",
   "source": [
    "print([w for w in word_tokenize(example_sentence.lower()) if w not in stop_words]) "
   ],
   "execution_count": 6,
   "outputs": [
    {
     "name": "stdout",
     "output_type": "stream",
     "text": [
      "['course', 'great', '.', \"'m\", 'going', 'learn', 'deep', 'learning', ';', 'artificial', 'intelligence', 'amazing', 'love', 'robotics', '...']\n"
     ]
    }
   ]
  },
  {
   "metadata": {
    "id": "az4ORMFbsPQ4",
    "colab_type": "code",
    "outputId": "a850c4f5-a8cb-4446-92dc-62bbfef0f759",
    "colab": {
     "base_uri": "https://localhost:8080/",
     "height": 35
    }
   },
   "cell_type": "code",
   "source": [
    "stop_words = stop_words - set(('this', 'i', 'and')) \n",
    "print([w for w in word_tokenize(example_sentence.lower()) if w not in stop_words]) \n"
   ],
   "execution_count": 7,
   "outputs": [
    {
     "name": "stdout",
     "output_type": "stream",
     "text": [
      "['this', 'course', 'great', '.', 'i', \"'m\", 'going', 'learn', 'deep', 'learning', ';', 'artificial', 'intelligence', 'amazing', 'and', 'i', 'love', 'robotics', '...']\n"
     ]
    }
   ]
  },
  {
   "metadata": {
    "id": "X9lrMA2csR2g",
    "colab_type": "code",
    "outputId": "b333a905-6001-4a53-d18e-7b1c9d577118",
    "colab": {
     "base_uri": "https://localhost:8080/",
     "height": 35
    }
   },
   "cell_type": "code",
   "source": [
    "from nltk.stem.porter import *\n",
    "stemmer = PorterStemmer() \n",
    "print([stemmer.stem(w) for w in  word_tokenize(example_sentence)])\n"
   ],
   "execution_count": 8,
   "outputs": [
    {
     "name": "stdout",
     "output_type": "stream",
     "text": [
      "['thi', 'cours', 'is', 'great', '.', 'i', \"'m\", 'go', 'to', 'learn', 'deep', 'learn', ';', 'artifici', 'intellig', 'is', 'amaz', 'and', 'i', 'love', 'robot', '...']\n"
     ]
    }
   ]
  },
  {
   "metadata": {
    "id": "1_J_vEiusUSA",
    "colab_type": "code",
    "outputId": "67d1b78d-9fb2-4ee6-d12b-3fc49d3ff508",
    "colab": {
     "base_uri": "https://localhost:8080/",
     "height": 490
    }
   },
   "cell_type": "code",
   "source": [
    "nltk.download('averaged_perceptron_tagger')\n",
    "t = nltk.pos_tag(word_tokenize(example_sentence)) #words with each tag\n",
    "t"
   ],
   "execution_count": 9,
   "outputs": [
    {
     "name": "stderr",
     "output_type": "stream",
     "text": [
      "[nltk_data] Downloading package averaged_perceptron_tagger to\n",
      "[nltk_data]     C:\\Users\\BBBBin\\AppData\\Roaming\\nltk_data...\n",
      "[nltk_data]   Unzipping taggers\\averaged_perceptron_tagger.zip.\n"
     ]
    },
    {
     "data": {
      "text/plain": "[('This', 'DT'),\n ('course', 'NN'),\n ('is', 'VBZ'),\n ('great', 'JJ'),\n ('.', '.'),\n ('I', 'PRP'),\n (\"'m\", 'VBP'),\n ('going', 'VBG'),\n ('to', 'TO'),\n ('learn', 'VB'),\n ('deep', 'JJ'),\n ('learning', 'NN'),\n (';', ':'),\n ('Artificial', 'NNP'),\n ('Intelligence', 'NNP'),\n ('is', 'VBZ'),\n ('amazing', 'JJ'),\n ('and', 'CC'),\n ('I', 'PRP'),\n ('love', 'VBP'),\n ('robotics', 'NNS'),\n ('...', ':')]"
     },
     "execution_count": 9,
     "metadata": {},
     "output_type": "execute_result"
    }
   ]
  }
 ]
}