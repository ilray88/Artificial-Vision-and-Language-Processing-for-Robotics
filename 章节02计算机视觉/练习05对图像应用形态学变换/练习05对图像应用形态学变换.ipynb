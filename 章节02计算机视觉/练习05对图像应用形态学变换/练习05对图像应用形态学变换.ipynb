{
 "nbformat": 4,
 "nbformat_minor": 0,
 "metadata": {
  "colab": {
   "name": "Exercise02.ipynb",
   "version": "0.3.2",
   "provenance": []
  },
  "kernelspec": {
   "display_name": "Python 3",
   "language": "python",
   "name": "python3"
  }
 },
 "cells": [
  {
   "metadata": {
    "id": "ZBeHpo_0V08s",
    "colab_type": "code",
    "colab": {
     "base_uri": "https://localhost:8080/",
     "height": 34
    },
    "outputId": "76783094-40d1-409f-da70-5af3bb0cfb25",
    "executionInfo": {
     "status": "ok",
     "timestamp": 1553676630102,
     "user_tz": -330,
     "elapsed": 1835,
     "user": {
      "displayName": "Rutuja Yerunkar",
      "photoUrl": "",
      "userId": "14305996731671555422"
     }
    },
    "pycharm": {
     "name": "#%% md\n"
    }
   },
   "cell_type": "markdown",
   "source": [
    "# 练习05对图像应用形态学变换"
   ]
  },
  {
   "metadata": {
    "id": "1trSdTZeV6Uo",
    "colab_type": "code",
    "colab": {
     "base_uri": "https://localhost:8080/",
     "height": 34
    },
    "outputId": "2e644bec-faad-4219-e6aa-ecd849ca66ee",
    "executionInfo": {
     "status": "ok",
     "timestamp": 1553676634282,
     "user_tz": -330,
     "elapsed": 1145,
     "user": {
      "displayName": "Rutuja Yerunkar",
      "photoUrl": "",
      "userId": "14305996731671555422"
     }
    }
   },
   "cell_type": "code",
   "source": [
    "# from google.colab import drive\n",
    "# drive.mount('/content/drive')"
   ],
   "execution_count": 12,
   "outputs": []
  },
  {
   "metadata": {
    "id": "z-3QbLJlV2vT",
    "colab_type": "code",
    "colab": {},
    "pycharm": {
     "name": "#%% md\n"
    }
   },
   "cell_type": "markdown",
   "source": [
    "#### "
   ]
  },
  {
   "metadata": {
    "id": "O93cvKVWV08v",
    "colab_type": "code",
    "colab": {
     "base_uri": "https://localhost:8080/",
     "height": 330
    },
    "outputId": "27c98809-0d84-4e81-bea3-ad041c61709a",
    "executionInfo": {
     "status": "ok",
     "timestamp": 1553676640249,
     "user_tz": -330,
     "elapsed": 2579,
     "user": {
      "displayName": "Rutuja Yerunkar",
      "photoUrl": "",
      "userId": "14305996731671555422"
     }
    }
   },
   "cell_type": "code",
   "source": [
    "# cd /content/drive/My Drive/C13550/Lesson02/Exercise02"
   ],
   "execution_count": 13,
   "outputs": []
  },
  {
   "metadata": {
    "id": "VT_6jOrdV080",
    "colab_type": "code",
    "colab": {
     "base_uri": "https://localhost:8080/",
     "height": 330
    },
    "outputId": "2d8267da-c289-4190-e7cb-2fd051e17219",
    "executionInfo": {
     "status": "ok",
     "timestamp": 1553676643922,
     "user_tz": -330,
     "elapsed": 1617,
     "user": {
      "displayName": "Rutuja Yerunkar",
      "photoUrl": "",
      "userId": "14305996731671555422"
     }
    },
    "pycharm": {
     "name": "#%% md\n"
    }
   },
   "cell_type": "markdown",
   "source": [
    "#### "
   ]
  },
  {
   "metadata": {
    "id": "kKnNOU2SV082",
    "colab_type": "code",
    "colab": {
     "base_uri": "https://localhost:8080/",
     "height": 330
    },
    "outputId": "9eb6a0e5-d728-4444-d4d2-1f54b2e67c46",
    "executionInfo": {
     "status": "ok",
     "timestamp": 1553676650287,
     "user_tz": -330,
     "elapsed": 2207,
     "user": {
      "displayName": "Rutuja Yerunkar",
      "photoUrl": "",
      "userId": "14305996731671555422"
     }
    }
   },
   "cell_type": "code",
   "source": [
    "import cv2\n",
    "import numpy as np\n",
    "from matplotlib import pyplot as plt"
   ],
   "execution_count": 14,
   "outputs": []
  },
  {
   "metadata": {
    "id": "Nbmx8tuDV085",
    "colab_type": "code",
    "colab": {},
    "pycharm": {
     "name": "#%% md\n"
    }
   },
   "cell_type": "markdown",
   "source": [
    "#### 灰度处理"
   ]
  },
  {
   "metadata": {
    "id": "sDWXk0JDV087",
    "colab_type": "code",
    "colab": {}
   },
   "cell_type": "code",
   "source": [
    "img = cv2.imread('three.png',0)\n",
    "plt.imshow(img,cmap='gray')\n",
    "plt.xticks([]),plt.yticks([])\n",
    "plt.savefig('ex2_1.jpg', bbox_inches='tight')\n",
    "plt.show()"
   ],
   "execution_count": 15,
   "outputs": [
    {
     "data": {
      "text/plain": "<Figure size 432x288 with 1 Axes>",
      "image/png": "[encoded data removed]"
     },
     "metadata": {},
     "output_type": "display_data"
    }
   ]
  },
  {
   "metadata": {
    "id": "g3hA-BanV08-",
    "colab_type": "code",
    "colab": {
     "base_uri": "https://localhost:8080/",
     "height": 128
    },
    "outputId": "c42136d6-0c84-45e8-d534-da338fe91bf1",
    "executionInfo": {
     "status": "ok",
     "timestamp": 1553676657923,
     "user_tz": -330,
     "elapsed": 2514,
     "user": {
      "displayName": "Rutuja Yerunkar",
      "photoUrl": "",
      "userId": "14305996731671555422"
     }
    },
    "pycharm": {
     "name": "#%% md\n"
    }
   },
   "cell_type": "markdown",
   "source": [
    "#### cv2.erode"
   ]
  },
  {
   "cell_type": "code",
   "execution_count": 16,
   "outputs": [
    {
     "data": {
      "text/plain": "<Figure size 432x288 with 1 Axes>",
      "image/png": "[encoded data removed]"
     },
     "metadata": {},
     "output_type": "display_data"
    }
   ],
   "source": [
    "kernel = np.ones((2,2),np.uint8)\n",
    "erosion = cv2.erode(img,kernel,iterations = 1)\n",
    "plt.imshow(erosion,cmap='gray')\n",
    "plt.xticks([]),plt.yticks([])\n",
    "plt.savefig('ex2_2.jpg', bbox_inches='tight')\n",
    "plt.show()"
   ],
   "metadata": {
    "collapsed": false,
    "pycharm": {
     "name": "#%%\n"
    }
   }
  },
  {
   "cell_type": "markdown",
   "source": [
    "#### cv2.erode"
   ],
   "metadata": {
    "collapsed": false
   }
  },
  {
   "cell_type": "code",
   "execution_count": 17,
   "outputs": [
    {
     "data": {
      "text/plain": "<Figure size 432x288 with 1 Axes>",
      "image/png": "[encoded data removed]"
     },
     "metadata": {},
     "output_type": "display_data"
    }
   ],
   "source": [
    "kernel = np.ones((2,2),np.uint8)\n",
    "dilation = cv2.dilate(img,kernel,iterations = 1)\n",
    "plt.imshow(dilation,cmap='gray')\n",
    "plt.xticks([]),plt.yticks([])\n",
    "plt.savefig('ex2_3.jpg', bbox_inches='tight')\n",
    "plt.show()\n"
   ],
   "metadata": {
    "collapsed": false,
    "pycharm": {
     "name": "#%%\n"
    }
   }
  },
  {
   "cell_type": "markdown",
   "source": [
    "#### 膨胀操作"
   ],
   "metadata": {
    "collapsed": false
   }
  },
  {
   "cell_type": "code",
   "execution_count": 18,
   "outputs": [],
   "source": [
    "import random\n",
    "random.seed(42)\n",
    "def sp_noise(image,prob):\n",
    "    '''\n",
    "    Add salt and pepper noise to image\n",
    "    prob: Probability of the noise\n",
    "    '''\n",
    "    output = np.zeros(image.shape,np.uint8)\n",
    "    thres = 1 - prob \n",
    "    for i in range(image.shape[0]):\n",
    "        for j in range(image.shape[1]):\n",
    "            rdn = random.random()\n",
    "            if rdn < prob:\n",
    "                output[i][j] = 0\n",
    "            elif rdn > thres:\n",
    "                output[i][j] = 255\n",
    "            else:\n",
    "                output[i][j] = image[i][j]\n",
    "    return output\n",
    "\n",
    "def sp_noise_on_figure(image,prob):\n",
    "    '''\n",
    "    Add salt and pepper noise to image\n",
    "    prob: Probability of the noise\n",
    "    '''\n",
    "    output = np.zeros(image.shape,np.uint8)\n",
    "    thres = 1 - prob \n",
    "    for i in range(image.shape[0]):\n",
    "        for j in range(image.shape[1]):\n",
    "            rdn = random.random()\n",
    "            if rdn < prob:\n",
    "                if image[i][j] > 100:\n",
    "                    output[i][j] = 0\n",
    "            else:\n",
    "                output[i][j] = image[i][j]\n",
    "    return output\n"
   ],
   "metadata": {
    "collapsed": false,
    "pycharm": {
     "name": "#%%\n"
    }
   }
  },
  {
   "cell_type": "markdown",
   "source": [
    "#### "
   ],
   "metadata": {
    "collapsed": false
   }
  },
  {
   "cell_type": "code",
   "execution_count": 19,
   "outputs": [],
   "source": [
    "kernel = np.ones((2,2),np.uint8)\n",
    "dilation = cv2.dilate(img,kernel,iterations = 1)\n",
    "noise_img = sp_noise(dilation,0.05)\n",
    "noise_img_on_image = sp_noise_on_figure(dilation,0.15)\n",
    "opening = cv2.morphologyEx(noise_img, cv2.MORPH_OPEN, kernel)\n",
    "closing = cv2.morphologyEx(noise_img_on_image, cv2.MORPH_CLOSE, kernel)"
   ],
   "metadata": {
    "collapsed": false,
    "pycharm": {
     "name": "#%%\n"
    }
   }
  },
  {
   "cell_type": "markdown",
   "source": [
    "#### "
   ],
   "metadata": {
    "collapsed": false
   }
  },
  {
   "cell_type": "code",
   "execution_count": 20,
   "outputs": [
    {
     "data": {
      "text/plain": "<Figure size 432x288 with 4 Axes>",
      "image/png": "[encoded data removed]"
     },
     "metadata": {},
     "output_type": "display_data"
    }
   ],
   "source": [
    "images = [noise_img,opening,noise_img_on_image,closing]\n",
    "for i in range(4):\n",
    "    plt.subplot(1,4,i+1),plt.imshow(images[i],'gray')\n",
    "    plt.xticks([]),plt.yticks([])\n",
    "plt.savefig('ex2_4.jpg', bbox_inches='tight')\n",
    "plt.show()"
   ],
   "metadata": {
    "collapsed": false,
    "pycharm": {
     "name": "#%%\n"
    }
   }
  },
  {
   "cell_type": "markdown",
   "source": [
    "#### "
   ],
   "metadata": {
    "collapsed": false
   }
  },
  {
   "metadata": {
    "id": "pV_0FprxV09B",
    "colab_type": "code",
    "colab": {}
   },
   "cell_type": "code",
   "source": [],
   "execution_count": 20,
   "outputs": []
  }
 ]
}